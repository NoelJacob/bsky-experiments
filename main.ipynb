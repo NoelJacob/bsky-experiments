{
 "cells": [
  {
   "metadata": {
    "ExecuteTime": {
     "end_time": "2024-11-24T07:27:37.994180Z",
     "start_time": "2024-11-24T07:27:37.990833Z"
    }
   },
   "cell_type": "code",
   "source": [
    "from os import environ\n",
    "from time import sleep\n",
    "from atproto import Client\n",
    "from math import ceil"
   ],
   "id": "4f1ea04860c685c",
   "outputs": [],
   "execution_count": 51
  },
  {
   "metadata": {
    "ExecuteTime": {
     "end_time": "2024-11-24T06:56:46.396682Z",
     "start_time": "2024-11-24T06:56:44.037145Z"
    }
   },
   "cell_type": "code",
   "source": [
    "client = Client()\n",
    "profile = client.login(environ['BSKY_ID'], environ['BSKY_PASS'])"
   ],
   "id": "46748c11b9644cd7",
   "outputs": [],
   "execution_count": 5
  },
  {
   "metadata": {
    "ExecuteTime": {
     "end_time": "2024-11-24T07:38:39.988439Z",
     "start_time": "2024-11-24T07:38:16.376269Z"
    }
   },
   "cell_type": "code",
   "source": [
    "follows = []\n",
    "cursor = None\n",
    "for i in range(ceil(profile.follows_count/100)):\n",
    "    res = client.get_follows(profile.did, cursor, 100)\n",
    "    for j in res.follows:\n",
    "        follows.append(j.did)\n",
    "    cursor = res.cursor"
   ],
   "id": "7252be85851f58a1",
   "outputs": [],
   "execution_count": 70
  },
  {
   "metadata": {
    "ExecuteTime": {
     "end_time": "2024-11-24T09:04:18.974766Z",
     "start_time": "2024-11-24T09:03:52.885225Z"
    }
   },
   "cell_type": "code",
   "source": [
    "follows_graph = {}\n",
    "cursor = None\n",
    "for i in range(ceil(profile.follows_count/100)):\n",
    "    res = client.get_follows(profile.did, cursor, 100)\n",
    "    for j in res.follows:\n",
    "        follows_graph[j.did] = j.viewer.following\n",
    "    cursor = res.cursor"
   ],
   "id": "4be03624515a657c",
   "outputs": [],
   "execution_count": 90
  },
  {
   "metadata": {
    "ExecuteTime": {
     "end_time": "2024-11-24T07:38:40.603855Z",
     "start_time": "2024-11-24T07:38:39.992865Z"
    }
   },
   "cell_type": "code",
   "source": [
    "followers = []\n",
    "cursor = None\n",
    "for i in range(ceil(profile.followers_count/100)):\n",
    "    res = client.get_followers(profile.did, cursor, 100)\n",
    "    for j in res.followers:\n",
    "        followers.append(j.did)\n",
    "    cursor = res.cursor"
   ],
   "id": "59e1e61d555265f0",
   "outputs": [],
   "execution_count": 71
  },
  {
   "metadata": {
    "ExecuteTime": {
     "end_time": "2024-11-24T07:39:01.259171Z",
     "start_time": "2024-11-24T07:39:01.255525Z"
    }
   },
   "cell_type": "code",
   "source": [
    "follows = set(follows)\n",
    "followers = set(followers)\n",
    "not_following_me = follows - followers\n",
    "not_followed_by_me = followers - follows"
   ],
   "id": "a6f3f8e2f206feec",
   "outputs": [],
   "execution_count": 72
  },
  {
   "metadata": {
    "ExecuteTime": {
     "end_time": "2024-11-24T07:39:56.166314Z",
     "start_time": "2024-11-24T07:39:25.977755Z"
    }
   },
   "cell_type": "code",
   "source": [
    "for i in not_followed_by_me:\n",
    "    client.follow(i)"
   ],
   "id": "1ff4817728347a74",
   "outputs": [],
   "execution_count": 73
  },
  {
   "metadata": {
    "ExecuteTime": {
     "end_time": "2024-11-24T08:58:04.419570Z",
     "start_time": "2024-11-24T08:58:02.646372Z"
    }
   },
   "cell_type": "code",
   "source": [
    "for i in not_following_me:\n",
    "    client.unfollow(follows_graph[i])\n",
    "    sleep(1)\n",
    "    client.follow(i)\n",
    "    sleep(1)"
   ],
   "id": "414f0b2454c7c4d1",
   "outputs": [
    {
     "ename": "BadRequestError",
     "evalue": "Response(success=False, status_code=400, content=XrpcError(error='InvalidRequest', message='Could not find repo: did:plc:gnlydrfe5q55guheemyvtmnu'), headers={'x-powered-by': 'Express', 'access-control-allow-origin': '*', 'cache-control': 'private', 'vary': 'Authorization, Accept-Encoding', 'ratelimit-limit': '5000', 'ratelimit-remaining': '4986', 'ratelimit-reset': '1732441832', 'ratelimit-policy': '5000;w=3600', 'content-type': 'application/json; charset=utf-8', 'content-length': '92', 'etag': 'W/\"5c-4sww56GSLnk+TKWKoM2iYrGp1nA\"', 'date': 'Sun, 24 Nov 2024 08:58:03 GMT', 'keep-alive': 'timeout=90', 'strict-transport-security': 'max-age=63072000'})",
     "output_type": "error",
     "traceback": [
      "\u001B[0;31m---------------------------------------------------------------------------\u001B[0m",
      "\u001B[0;31mBadRequestError\u001B[0m                           Traceback (most recent call last)",
      "Cell \u001B[0;32mIn[85], line 2\u001B[0m\n\u001B[1;32m      1\u001B[0m \u001B[38;5;28;01mfor\u001B[39;00m i \u001B[38;5;129;01min\u001B[39;00m not_following_me:\n\u001B[0;32m----> 2\u001B[0m     \u001B[43mclient\u001B[49m\u001B[38;5;241;43m.\u001B[39;49m\u001B[43munfollow\u001B[49m\u001B[43m(\u001B[49m\u001B[43mi\u001B[49m\u001B[43m)\u001B[49m\n\u001B[1;32m      3\u001B[0m     sleep(\u001B[38;5;241m1\u001B[39m)\n\u001B[1;32m      4\u001B[0m     client\u001B[38;5;241m.\u001B[39mfollow(i)\n",
      "File \u001B[0;32m~/Dev/bsky/.venv/lib/python3.12/site-packages/atproto_client/client/client.py:590\u001B[0m, in \u001B[0;36mClient.unfollow\u001B[0;34m(self, follow_uri)\u001B[0m\n\u001B[1;32m    578\u001B[0m \u001B[38;5;250m\u001B[39m\u001B[38;5;124;03m\"\"\"Unfollow the profile.\u001B[39;00m\n\u001B[1;32m    579\u001B[0m \n\u001B[1;32m    580\u001B[0m \u001B[38;5;124;03mArgs:\u001B[39;00m\n\u001B[0;32m   (...)\u001B[0m\n\u001B[1;32m    587\u001B[0m \u001B[38;5;124;03m    :class:`atproto.exceptions.AtProtocolError`: Base exception.\u001B[39;00m\n\u001B[1;32m    588\u001B[0m \u001B[38;5;124;03m\"\"\"\u001B[39;00m\n\u001B[1;32m    589\u001B[0m uri \u001B[38;5;241m=\u001B[39m AtUri\u001B[38;5;241m.\u001B[39mfrom_str(follow_uri)\n\u001B[0;32m--> 590\u001B[0m \u001B[38;5;28;01mreturn\u001B[39;00m \u001B[38;5;28;43mself\u001B[39;49m\u001B[38;5;241;43m.\u001B[39;49m\u001B[43mapp\u001B[49m\u001B[38;5;241;43m.\u001B[39;49m\u001B[43mbsky\u001B[49m\u001B[38;5;241;43m.\u001B[39;49m\u001B[43mgraph\u001B[49m\u001B[38;5;241;43m.\u001B[39;49m\u001B[43mfollow\u001B[49m\u001B[38;5;241;43m.\u001B[39;49m\u001B[43mdelete\u001B[49m\u001B[43m(\u001B[49m\u001B[43muri\u001B[49m\u001B[38;5;241;43m.\u001B[39;49m\u001B[43mhostname\u001B[49m\u001B[43m,\u001B[49m\u001B[43m \u001B[49m\u001B[43muri\u001B[49m\u001B[38;5;241;43m.\u001B[39;49m\u001B[43mrkey\u001B[49m\u001B[43m)\u001B[49m\n",
      "File \u001B[0;32m~/Dev/bsky/.venv/lib/python3.12/site-packages/atproto_client/namespaces/sync_ns.py:2044\u001B[0m, in \u001B[0;36mAppBskyGraphFollowRecord.delete\u001B[0;34m(self, repo, rkey, swap_commit, swap_record, **kwargs)\u001B[0m\n\u001B[1;32m   2022\u001B[0m \u001B[38;5;250m\u001B[39m\u001B[38;5;124;03m\"\"\"Delete a record, or ensure it doesn't exist.\u001B[39;00m\n\u001B[1;32m   2023\u001B[0m \n\u001B[1;32m   2024\u001B[0m \u001B[38;5;124;03mArgs:\u001B[39;00m\n\u001B[0;32m   (...)\u001B[0m\n\u001B[1;32m   2035\u001B[0m \u001B[38;5;124;03m    :class:`atproto.exceptions.AtProtocolError`: Base exception.\u001B[39;00m\n\u001B[1;32m   2036\u001B[0m \u001B[38;5;124;03m\"\"\"\u001B[39;00m\n\u001B[1;32m   2037\u001B[0m data_model \u001B[38;5;241m=\u001B[39m models\u001B[38;5;241m.\u001B[39mComAtprotoRepoDeleteRecord\u001B[38;5;241m.\u001B[39mData(\n\u001B[1;32m   2038\u001B[0m     collection\u001B[38;5;241m=\u001B[39m\u001B[38;5;124m'\u001B[39m\u001B[38;5;124mapp.bsky.graph.follow\u001B[39m\u001B[38;5;124m'\u001B[39m,\n\u001B[1;32m   2039\u001B[0m     repo\u001B[38;5;241m=\u001B[39mrepo,\n\u001B[0;32m   (...)\u001B[0m\n\u001B[1;32m   2042\u001B[0m     swap_record\u001B[38;5;241m=\u001B[39mswap_record,\n\u001B[1;32m   2043\u001B[0m )\n\u001B[0;32m-> 2044\u001B[0m response \u001B[38;5;241m=\u001B[39m \u001B[38;5;28;43mself\u001B[39;49m\u001B[38;5;241;43m.\u001B[39;49m\u001B[43m_client\u001B[49m\u001B[38;5;241;43m.\u001B[39;49m\u001B[43minvoke_procedure\u001B[49m\u001B[43m(\u001B[49m\n\u001B[1;32m   2045\u001B[0m \u001B[43m    \u001B[49m\u001B[38;5;124;43m'\u001B[39;49m\u001B[38;5;124;43mcom.atproto.repo.deleteRecord\u001B[39;49m\u001B[38;5;124;43m'\u001B[39;49m\u001B[43m,\u001B[49m\u001B[43m \u001B[49m\u001B[43mdata\u001B[49m\u001B[38;5;241;43m=\u001B[39;49m\u001B[43mdata_model\u001B[49m\u001B[43m,\u001B[49m\u001B[43m \u001B[49m\u001B[43minput_encoding\u001B[49m\u001B[38;5;241;43m=\u001B[39;49m\u001B[38;5;124;43m'\u001B[39;49m\u001B[38;5;124;43mapplication/json\u001B[39;49m\u001B[38;5;124;43m'\u001B[39;49m\u001B[43m,\u001B[49m\u001B[43m \u001B[49m\u001B[38;5;241;43m*\u001B[39;49m\u001B[38;5;241;43m*\u001B[39;49m\u001B[43mkwargs\u001B[49m\n\u001B[1;32m   2046\u001B[0m \u001B[43m\u001B[49m\u001B[43m)\u001B[49m\n\u001B[1;32m   2047\u001B[0m \u001B[38;5;28;01mreturn\u001B[39;00m get_response_model(response, \u001B[38;5;28mbool\u001B[39m)\n",
      "File \u001B[0;32m~/Dev/bsky/.venv/lib/python3.12/site-packages/atproto_client/client/base.py:115\u001B[0m, in \u001B[0;36mClientBase.invoke_procedure\u001B[0;34m(self, nsid, params, data, **kwargs)\u001B[0m\n\u001B[1;32m    108\u001B[0m \u001B[38;5;28;01mdef\u001B[39;00m \u001B[38;5;21minvoke_procedure\u001B[39m(\n\u001B[1;32m    109\u001B[0m     \u001B[38;5;28mself\u001B[39m,\n\u001B[1;32m    110\u001B[0m     nsid: \u001B[38;5;28mstr\u001B[39m,\n\u001B[0;32m   (...)\u001B[0m\n\u001B[1;32m    113\u001B[0m     \u001B[38;5;241m*\u001B[39m\u001B[38;5;241m*\u001B[39mkwargs: t\u001B[38;5;241m.\u001B[39mAny,\n\u001B[1;32m    114\u001B[0m ) \u001B[38;5;241m-\u001B[39m\u001B[38;5;241m>\u001B[39m Response:\n\u001B[0;32m--> 115\u001B[0m     \u001B[38;5;28;01mreturn\u001B[39;00m \u001B[38;5;28;43mself\u001B[39;49m\u001B[38;5;241;43m.\u001B[39;49m\u001B[43m_invoke\u001B[49m\u001B[43m(\u001B[49m\u001B[43mInvokeType\u001B[49m\u001B[38;5;241;43m.\u001B[39;49m\u001B[43mPROCEDURE\u001B[49m\u001B[43m,\u001B[49m\u001B[43m \u001B[49m\u001B[43murl\u001B[49m\u001B[38;5;241;43m=\u001B[39;49m\u001B[38;5;28;43mself\u001B[39;49m\u001B[38;5;241;43m.\u001B[39;49m\u001B[43m_build_url\u001B[49m\u001B[43m(\u001B[49m\u001B[43mnsid\u001B[49m\u001B[43m)\u001B[49m\u001B[43m,\u001B[49m\u001B[43m \u001B[49m\u001B[43mparams\u001B[49m\u001B[38;5;241;43m=\u001B[39;49m\u001B[43mparams\u001B[49m\u001B[43m,\u001B[49m\u001B[43m \u001B[49m\u001B[43mdata\u001B[49m\u001B[38;5;241;43m=\u001B[39;49m\u001B[43mdata\u001B[49m\u001B[43m,\u001B[49m\u001B[43m \u001B[49m\u001B[38;5;241;43m*\u001B[39;49m\u001B[38;5;241;43m*\u001B[39;49m\u001B[43mkwargs\u001B[49m\u001B[43m)\u001B[49m\n",
      "File \u001B[0;32m~/Dev/bsky/.venv/lib/python3.12/site-packages/atproto_client/client/client.py:41\u001B[0m, in \u001B[0;36mClient._invoke\u001B[0;34m(self, invoke_type, **kwargs)\u001B[0m\n\u001B[1;32m     38\u001B[0m     \u001B[38;5;28;01mif\u001B[39;00m \u001B[38;5;28mself\u001B[39m\u001B[38;5;241m.\u001B[39m_access_jwt \u001B[38;5;129;01mand\u001B[39;00m \u001B[38;5;28mself\u001B[39m\u001B[38;5;241m.\u001B[39m_should_refresh_session():\n\u001B[1;32m     39\u001B[0m         \u001B[38;5;28mself\u001B[39m\u001B[38;5;241m.\u001B[39m_refresh_and_set_session()\n\u001B[0;32m---> 41\u001B[0m \u001B[38;5;28;01mreturn\u001B[39;00m \u001B[38;5;28;43msuper\u001B[39;49m\u001B[43m(\u001B[49m\u001B[43m)\u001B[49m\u001B[38;5;241;43m.\u001B[39;49m\u001B[43m_invoke\u001B[49m\u001B[43m(\u001B[49m\u001B[43minvoke_type\u001B[49m\u001B[43m,\u001B[49m\u001B[43m \u001B[49m\u001B[38;5;241;43m*\u001B[39;49m\u001B[38;5;241;43m*\u001B[39;49m\u001B[43mkwargs\u001B[49m\u001B[43m)\u001B[49m\n",
      "File \u001B[0;32m~/Dev/bsky/.venv/lib/python3.12/site-packages/atproto_client/client/base.py:122\u001B[0m, in \u001B[0;36mClientBase._invoke\u001B[0;34m(self, invoke_type, **kwargs)\u001B[0m\n\u001B[1;32m    120\u001B[0m \u001B[38;5;28;01mif\u001B[39;00m invoke_type \u001B[38;5;129;01mis\u001B[39;00m InvokeType\u001B[38;5;241m.\u001B[39mQUERY:\n\u001B[1;32m    121\u001B[0m     \u001B[38;5;28;01mreturn\u001B[39;00m \u001B[38;5;28mself\u001B[39m\u001B[38;5;241m.\u001B[39mrequest\u001B[38;5;241m.\u001B[39mget(\u001B[38;5;241m*\u001B[39m\u001B[38;5;241m*\u001B[39mkwargs)\n\u001B[0;32m--> 122\u001B[0m \u001B[38;5;28;01mreturn\u001B[39;00m \u001B[38;5;28;43mself\u001B[39;49m\u001B[38;5;241;43m.\u001B[39;49m\u001B[43mrequest\u001B[49m\u001B[38;5;241;43m.\u001B[39;49m\u001B[43mpost\u001B[49m\u001B[43m(\u001B[49m\u001B[38;5;241;43m*\u001B[39;49m\u001B[38;5;241;43m*\u001B[39;49m\u001B[43mkwargs\u001B[49m\u001B[43m)\u001B[49m\n",
      "File \u001B[0;32m~/Dev/bsky/.venv/lib/python3.12/site-packages/atproto_client/request.py:165\u001B[0m, in \u001B[0;36mRequest.post\u001B[0;34m(self, *args, **kwargs)\u001B[0m\n\u001B[1;32m    164\u001B[0m \u001B[38;5;28;01mdef\u001B[39;00m \u001B[38;5;21mpost\u001B[39m(\u001B[38;5;28mself\u001B[39m, \u001B[38;5;241m*\u001B[39margs: t\u001B[38;5;241m.\u001B[39mAny, \u001B[38;5;241m*\u001B[39m\u001B[38;5;241m*\u001B[39mkwargs: t\u001B[38;5;241m.\u001B[39mAny) \u001B[38;5;241m-\u001B[39m\u001B[38;5;241m>\u001B[39m Response:\n\u001B[0;32m--> 165\u001B[0m     \u001B[38;5;28;01mreturn\u001B[39;00m _parse_response(\u001B[38;5;28;43mself\u001B[39;49m\u001B[38;5;241;43m.\u001B[39;49m\u001B[43m_send_request\u001B[49m\u001B[43m(\u001B[49m\u001B[38;5;124;43m'\u001B[39;49m\u001B[38;5;124;43mPOST\u001B[39;49m\u001B[38;5;124;43m'\u001B[39;49m\u001B[43m,\u001B[49m\u001B[43m \u001B[49m\u001B[38;5;241;43m*\u001B[39;49m\u001B[43margs\u001B[49m\u001B[43m,\u001B[49m\u001B[43m \u001B[49m\u001B[38;5;241;43m*\u001B[39;49m\u001B[38;5;241;43m*\u001B[39;49m\u001B[43mkwargs\u001B[49m\u001B[43m)\u001B[49m)\n",
      "File \u001B[0;32m~/Dev/bsky/.venv/lib/python3.12/site-packages/atproto_client/request.py:155\u001B[0m, in \u001B[0;36mRequest._send_request\u001B[0;34m(self, method, url, **kwargs)\u001B[0m\n\u001B[1;32m    153\u001B[0m     \u001B[38;5;28;01mreturn\u001B[39;00m _handle_response(response)\n\u001B[1;32m    154\u001B[0m \u001B[38;5;28;01mexcept\u001B[39;00m \u001B[38;5;167;01mException\u001B[39;00m \u001B[38;5;28;01mas\u001B[39;00m e:\n\u001B[0;32m--> 155\u001B[0m     \u001B[43m_handle_request_errors\u001B[49m\u001B[43m(\u001B[49m\u001B[43me\u001B[49m\u001B[43m)\u001B[49m\n\u001B[1;32m    156\u001B[0m     \u001B[38;5;28;01mraise\u001B[39;00m e\n",
      "File \u001B[0;32m~/Dev/bsky/.venv/lib/python3.12/site-packages/atproto_client/request.py:54\u001B[0m, in \u001B[0;36m_handle_request_errors\u001B[0;34m(exception)\u001B[0m\n\u001B[1;32m     52\u001B[0m \u001B[38;5;28;01mdef\u001B[39;00m \u001B[38;5;21m_handle_request_errors\u001B[39m(exception: \u001B[38;5;167;01mException\u001B[39;00m) \u001B[38;5;241m-\u001B[39m\u001B[38;5;241m>\u001B[39m \u001B[38;5;28;01mNone\u001B[39;00m:\n\u001B[1;32m     53\u001B[0m     \u001B[38;5;28;01mtry\u001B[39;00m:\n\u001B[0;32m---> 54\u001B[0m         \u001B[38;5;28;01mraise\u001B[39;00m exception\n\u001B[1;32m     55\u001B[0m     \u001B[38;5;28;01mexcept\u001B[39;00m httpx\u001B[38;5;241m.\u001B[39mTimeoutException \u001B[38;5;28;01mas\u001B[39;00m e:\n\u001B[1;32m     56\u001B[0m         \u001B[38;5;28;01mraise\u001B[39;00m exceptions\u001B[38;5;241m.\u001B[39mInvokeTimeoutError \u001B[38;5;28;01mfrom\u001B[39;00m \u001B[38;5;21;01me\u001B[39;00m\n",
      "File \u001B[0;32m~/Dev/bsky/.venv/lib/python3.12/site-packages/atproto_client/request.py:153\u001B[0m, in \u001B[0;36mRequest._send_request\u001B[0;34m(self, method, url, **kwargs)\u001B[0m\n\u001B[1;32m    151\u001B[0m \u001B[38;5;28;01mtry\u001B[39;00m:\n\u001B[1;32m    152\u001B[0m     response \u001B[38;5;241m=\u001B[39m \u001B[38;5;28mself\u001B[39m\u001B[38;5;241m.\u001B[39m_client\u001B[38;5;241m.\u001B[39mrequest(method\u001B[38;5;241m=\u001B[39mmethod, url\u001B[38;5;241m=\u001B[39murl, headers\u001B[38;5;241m=\u001B[39mheaders, \u001B[38;5;241m*\u001B[39m\u001B[38;5;241m*\u001B[39mkwargs)\n\u001B[0;32m--> 153\u001B[0m     \u001B[38;5;28;01mreturn\u001B[39;00m \u001B[43m_handle_response\u001B[49m\u001B[43m(\u001B[49m\u001B[43mresponse\u001B[49m\u001B[43m)\u001B[49m\n\u001B[1;32m    154\u001B[0m \u001B[38;5;28;01mexcept\u001B[39;00m \u001B[38;5;167;01mException\u001B[39;00m \u001B[38;5;28;01mas\u001B[39;00m e:\n\u001B[1;32m    155\u001B[0m     _handle_request_errors(e)\n",
      "File \u001B[0;32m~/Dev/bsky/.venv/lib/python3.12/site-packages/atproto_client/request.py:79\u001B[0m, in \u001B[0;36m_handle_response\u001B[0;34m(response)\u001B[0m\n\u001B[1;32m     77\u001B[0m     \u001B[38;5;28;01mraise\u001B[39;00m exceptions\u001B[38;5;241m.\u001B[39mUnauthorizedError(error_response)\n\u001B[1;32m     78\u001B[0m \u001B[38;5;28;01mif\u001B[39;00m response\u001B[38;5;241m.\u001B[39mstatus_code \u001B[38;5;241m==\u001B[39m \u001B[38;5;241m400\u001B[39m:\n\u001B[0;32m---> 79\u001B[0m     \u001B[38;5;28;01mraise\u001B[39;00m exceptions\u001B[38;5;241m.\u001B[39mBadRequestError(error_response)\n\u001B[1;32m     80\u001B[0m \u001B[38;5;28;01mif\u001B[39;00m response\u001B[38;5;241m.\u001B[39mstatus_code \u001B[38;5;129;01min\u001B[39;00m {\u001B[38;5;241m409\u001B[39m, \u001B[38;5;241m413\u001B[39m, \u001B[38;5;241m502\u001B[39m}:\n\u001B[1;32m     81\u001B[0m     \u001B[38;5;28;01mraise\u001B[39;00m exceptions\u001B[38;5;241m.\u001B[39mNetworkError(error_response)\n",
      "\u001B[0;31mBadRequestError\u001B[0m: Response(success=False, status_code=400, content=XrpcError(error='InvalidRequest', message='Could not find repo: did:plc:gnlydrfe5q55guheemyvtmnu'), headers={'x-powered-by': 'Express', 'access-control-allow-origin': '*', 'cache-control': 'private', 'vary': 'Authorization, Accept-Encoding', 'ratelimit-limit': '5000', 'ratelimit-remaining': '4986', 'ratelimit-reset': '1732441832', 'ratelimit-policy': '5000;w=3600', 'content-type': 'application/json; charset=utf-8', 'content-length': '92', 'etag': 'W/\"5c-4sww56GSLnk+TKWKoM2iYrGp1nA\"', 'date': 'Sun, 24 Nov 2024 08:58:03 GMT', 'keep-alive': 'timeout=90', 'strict-transport-security': 'max-age=63072000'})"
     ]
    }
   ],
   "execution_count": 85
  }
 ],
 "metadata": {
  "kernelspec": {
   "name": "python3",
   "language": "python",
   "display_name": "Python 3 (ipykernel)"
  }
 },
 "nbformat": 5,
 "nbformat_minor": 9
}
