{
 "cells": [
  {
   "metadata": {
    "ExecuteTime": {
     "end_time": "2024-11-24T07:27:37.994180Z",
     "start_time": "2024-11-24T07:27:37.990833Z"
    }
   },
   "cell_type": "code",
   "source": [
    "from os import environ\n",
    "from time import sleep\n",
    "\n",
    "from atproto import Client\n",
    "from math import ceil"
   ],
   "id": "4f1ea04860c685c",
   "outputs": [],
   "execution_count": 51
  },
  {
   "metadata": {
    "ExecuteTime": {
     "end_time": "2024-11-24T06:56:46.396682Z",
     "start_time": "2024-11-24T06:56:44.037145Z"
    }
   },
   "cell_type": "code",
   "source": [
    "client = Client()\n",
    "profile = client.login(environ['BSKY_ID'], environ['BSKY_PASS'])"
   ],
   "id": "46748c11b9644cd7",
   "outputs": [],
   "execution_count": 5
  },
  {
   "metadata": {
    "ExecuteTime": {
     "end_time": "2024-11-24T07:38:39.988439Z",
     "start_time": "2024-11-24T07:38:16.376269Z"
    }
   },
   "cell_type": "code",
   "source": [
    "follows = []\n",
    "cursor = None\n",
    "for i in range(ceil(profile.follows_count/100)):\n",
    "    res = client.get_follows(profile.did, cursor, 100)\n",
    "    for j in res.follows:\n",
    "        follows.append(j.did)\n",
    "    cursor = res.cursor"
   ],
   "id": "7252be85851f58a1",
   "outputs": [],
   "execution_count": 70
  },
  {
   "metadata": {
    "ExecuteTime": {
     "end_time": "2024-11-24T07:38:40.603855Z",
     "start_time": "2024-11-24T07:38:39.992865Z"
    }
   },
   "cell_type": "code",
   "source": [
    "followers = []\n",
    "cursor = None\n",
    "for i in range(ceil(profile.followers_count/100)):\n",
    "    res = client.get_followers(profile.did, cursor, 100)\n",
    "    for j in res.followers:\n",
    "        followers.append(j.did)\n",
    "    cursor = res.cursor"
   ],
   "id": "59e1e61d555265f0",
   "outputs": [],
   "execution_count": 71
  },
  {
   "metadata": {
    "ExecuteTime": {
     "end_time": "2024-11-24T07:39:01.259171Z",
     "start_time": "2024-11-24T07:39:01.255525Z"
    }
   },
   "cell_type": "code",
   "source": [
    "follows = set(follows)\n",
    "followers = set(followers)\n",
    "not_following_me = follows - followers\n",
    "not_followed_by_me = followers - follows"
   ],
   "id": "a6f3f8e2f206feec",
   "outputs": [],
   "execution_count": 72
  },
  {
   "metadata": {
    "ExecuteTime": {
     "end_time": "2024-11-24T07:39:56.166314Z",
     "start_time": "2024-11-24T07:39:25.977755Z"
    }
   },
   "cell_type": "code",
   "source": [
    "for i in not_followed_by_me:\n",
    "    client.follow(i)"
   ],
   "id": "1ff4817728347a74",
   "outputs": [],
   "execution_count": 73
  },
  {
   "metadata": {},
   "cell_type": "code",
   "outputs": [],
   "execution_count": null,
   "source": [
    "for i in not_following_me:\n",
    "    client.unfollow(i)\n",
    "    sleep(1)\n",
    "    client.follow(i)\n",
    "    sleep(1)"
   ],
   "id": "414f0b2454c7c4d1"
  }
 ],
 "metadata": {
  "kernelspec": {
   "name": "python3",
   "language": "python",
   "display_name": "Python 3 (ipykernel)"
  }
 },
 "nbformat": 5,
 "nbformat_minor": 9
}
